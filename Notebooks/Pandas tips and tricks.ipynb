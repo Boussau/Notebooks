{
 "cells": [
  {
   "cell_type": "markdown",
   "metadata": {},
   "source": [
    "## Create a table"
   ]
  },
  {
   "cell_type": "code",
   "execution_count": 1,
   "metadata": {},
   "outputs": [],
   "source": [
    "import pandas as pd\n",
    "import numpy as np"
   ]
  },
  {
   "cell_type": "code",
   "execution_count": 2,
   "metadata": {},
   "outputs": [
    {
     "name": "stdout",
     "output_type": "stream",
     "text": [
      "     Name   Age    Size  Cumul\n",
      "0    Alex  10.0  little    0.0\n",
      "1     Bob  12.0  little    1.0\n",
      "2  Clarke  13.0  little    1.0\n",
      "3     Tim  13.0     big    3.0\n",
      "4    John  13.0     big    5.0\n",
      "5    John   9.0     big    6.0\n",
      "6     Rob  10.0     big    8.0\n",
      "7    Brit   8.0  little   10.0\n",
      "8  Stella  11.0     big    9.0\n"
     ]
    }
   ],
   "source": [
    "\n",
    "data = [['Alex',10,'little',0],['Bob',12,'little',1],['Clarke',13,'little',1],['Tim',13,'big',3],['John',13,'big',5],['John',9,'big',6],['Rob',10,'big',8], ['Brit',8, 'little',10], ['Stella', 11, 'big', 9]]\n",
    "df = pd.DataFrame(data,columns=['Name','Age','Size','Cumul'],dtype=float)\n",
    "print(df)\n",
    "\n"
   ]
  },
  {
   "cell_type": "markdown",
   "metadata": {},
   "source": [
    "## Compute the change in a column between values of a specific type according to another column"
   ]
  },
  {
   "cell_type": "code",
   "execution_count": 3,
   "metadata": {},
   "outputs": [],
   "source": [
    "def calculate_change_in_field_given_value_in_other_field(df, field_for_computing_change, indicator_field, indicator_value, new_field):\n",
    "    \"\"\"calculates the interval change in field cumulated_field and stores it in field.\"\"\"\n",
    "    # create a sub table\n",
    "    sel_table_row_ids = df[indicator_field] == indicator_value\n",
    "    sel_column = np.array(df.loc[sel_table_row_ids,  field_for_computing_change])\n",
    "    for index, value in enumerate(sel_column):\n",
    "        if index>0 and value < sel_column[index-1]:\n",
    "            sel_column[index] = sel_column[index-1]\n",
    "    sel_column = sel_column - [0, *sel_column[:-1]]\n",
    "    df.loc[sel_table_row_ids, new_field] = sel_column"
   ]
  },
  {
   "cell_type": "code",
   "execution_count": 4,
   "metadata": {},
   "outputs": [],
   "source": [
    "calculate_change_in_field_given_value_in_other_field(df=df, field_for_computing_change=\"Cumul\", indicator_field=\"Size\", indicator_value=\"big\", new_field=\"Difference\")"
   ]
  },
  {
   "cell_type": "code",
   "execution_count": 5,
   "metadata": {},
   "outputs": [
    {
     "name": "stdout",
     "output_type": "stream",
     "text": [
      "     Name   Age    Size  Cumul  Difference\n",
      "0    Alex  10.0  little    0.0         NaN\n",
      "1     Bob  12.0  little    1.0         NaN\n",
      "2  Clarke  13.0  little    1.0         NaN\n",
      "3     Tim  13.0     big    3.0         3.0\n",
      "4    John  13.0     big    5.0         2.0\n",
      "5    John   9.0     big    6.0         1.0\n",
      "6     Rob  10.0     big    8.0         2.0\n",
      "7    Brit   8.0  little   10.0         NaN\n",
      "8  Stella  11.0     big    9.0         1.0\n"
     ]
    }
   ],
   "source": [
    "print(df)"
   ]
  },
  {
   "cell_type": "code",
   "execution_count": 6,
   "metadata": {},
   "outputs": [],
   "source": [
    "calculate_change_in_field_given_value_in_other_field(df=df, field_for_computing_change=\"Cumul\", indicator_field=\"Size\", indicator_value=\"little\", new_field=\"Difference\")"
   ]
  },
  {
   "cell_type": "code",
   "execution_count": 7,
   "metadata": {},
   "outputs": [
    {
     "name": "stdout",
     "output_type": "stream",
     "text": [
      "     Name   Age    Size  Cumul  Difference\n",
      "0    Alex  10.0  little    0.0         0.0\n",
      "1     Bob  12.0  little    1.0         1.0\n",
      "2  Clarke  13.0  little    1.0         0.0\n",
      "3     Tim  13.0     big    3.0         3.0\n",
      "4    John  13.0     big    5.0         2.0\n",
      "5    John   9.0     big    6.0         1.0\n",
      "6     Rob  10.0     big    8.0         2.0\n",
      "7    Brit   8.0  little   10.0         9.0\n",
      "8  Stella  11.0     big    9.0         1.0\n"
     ]
    }
   ],
   "source": [
    "print(df)"
   ]
  },
  {
   "cell_type": "code",
   "execution_count": 8,
   "metadata": {},
   "outputs": [
    {
     "name": "stdout",
     "output_type": "stream",
     "text": [
      "Alex\n",
      "Bob\n",
      "Clarke\n",
      "Tim\n",
      "John\n",
      "Rob\n",
      "Brit\n",
      "Stella\n"
     ]
    }
   ],
   "source": [
    "for name in df[\"Name\"].unique():\n",
    "    print(name)\n",
    "    \n"
   ]
  },
  {
   "cell_type": "code",
   "execution_count": 9,
   "metadata": {},
   "outputs": [
    {
     "name": "stdout",
     "output_type": "stream",
     "text": [
      "     Name   Age    Size  Difference\n",
      "0    Alex  10.0  little         0.0\n",
      "1     Bob  12.0  little         1.0\n",
      "2  Clarke  13.0  little         0.0\n",
      "3     Tim  13.0     big         3.0\n",
      "4    John  13.0     big         2.0\n",
      "5    John   9.0     big         1.0\n",
      "6     Rob  10.0     big         2.0\n",
      "7    Brit   8.0  little         9.0\n",
      "8  Stella  11.0     big         1.0\n"
     ]
    }
   ],
   "source": [
    "del(df[\"Cumul\"])\n",
    "print(df)"
   ]
  },
  {
   "cell_type": "code",
   "execution_count": null,
   "metadata": {},
   "outputs": [],
   "source": []
  }
 ],
 "metadata": {
  "kernelspec": {
   "display_name": "Python 3",
   "language": "python",
   "name": "python3"
  },
  "language_info": {
   "codemirror_mode": {
    "name": "ipython",
    "version": 3
   },
   "file_extension": ".py",
   "mimetype": "text/x-python",
   "name": "python",
   "nbconvert_exporter": "python",
   "pygments_lexer": "ipython3",
   "version": "3.7.3"
  }
 },
 "nbformat": 4,
 "nbformat_minor": 2
}
