{
 "cells": [
  {
   "cell_type": "markdown",
   "metadata": {},
   "source": [
    "# Here we want to place n events of transition between an ancestral lifestyle and a convergent lifestyle in a phylogeny. \n",
    "We want these n events to be independent, not nested.\n",
    "We return them in a format compatible with Bio++ input files for bppseqgen and bppml."
   ]
  },
  {
   "cell_type": "markdown",
   "metadata": {},
   "source": [
    "## First, we generate a random topology:"
   ]
  },
  {
   "cell_type": "code",
   "execution_count": 1,
   "metadata": {
    "collapsed": false
   },
   "outputs": [
    {
     "name": "stdout",
     "output_type": "stream",
     "text": [
      "\n",
      "         /-b\n",
      "      /-|\n",
      "     |   \\-a\n",
      "   /-|\n",
      "  |  |   /-t\n",
      "  |   \\-|\n",
      "  |     |   /-s\n",
      "  |      \\-|\n",
      "  |        |   /-r\n",
      "  |         \\-|\n",
      "  |            \\-q\n",
      "--|\n",
      "  |      /-p\n",
      "  |   /-|\n",
      "  |  |  |   /-o\n",
      "  |  |   \\-|\n",
      "  |  |      \\-n\n",
      "  |  |\n",
      "  |  |      /-m\n",
      "  |  |   /-|\n",
      "   \\-|  |  |   /-l\n",
      "     |  |   \\-|\n",
      "     |  |     |   /-k\n",
      "     |  |      \\-|\n",
      "     |  |        |   /-j\n",
      "     |  |         \\-|\n",
      "     |  |           |   /-i\n",
      "      \\-|            \\-|\n",
      "        |              |   /-h\n",
      "        |               \\-|\n",
      "        |                  \\-g\n",
      "        |\n",
      "        |      /-f\n",
      "        |   /-|\n",
      "        |  |   \\-e\n",
      "         \\-|\n",
      "           |   /-d\n",
      "            \\-|\n",
      "               \\-c\n"
     ]
    }
   ],
   "source": [
    "from ete3 import Tree\n",
    "import string\n",
    "import scipy.stats as stats\n",
    "import numpy as np\n",
    "\n",
    "tl = Tree()\n",
    "# We create a random tree topology\n",
    "numTips = 20\n",
    "candidateNames = list(string.ascii_lowercase)\n",
    "tipNames = candidateNames[0:20]\n",
    "tl.populate(numTips, names_library=tipNames)\n",
    "print (tl)\n",
    "\n",
    "#Alternatively we could read a tree from a file into a string \"line\", and then use: \n",
    "# tl =  Tree( line )"
   ]
  },
  {
   "cell_type": "markdown",
   "metadata": {},
   "source": [
    "## Now, let's number the nodes of the tree."
   ]
  },
  {
   "cell_type": "code",
   "execution_count": 2,
   "metadata": {
    "collapsed": false
   },
   "outputs": [
    {
     "name": "stdout",
     "output_type": "stream",
     "text": [
      "\n",
      "         /-b\n",
      "      /3|\n",
      "     |   \\-a\n",
      "   /1|\n",
      "  |  |   /-t\n",
      "  |   \\4|\n",
      "  |     |   /-s\n",
      "  |      \\10\n",
      "  |        |   /-r\n",
      "  |         \\16\n",
      "  |            \\-q\n",
      "-0|\n",
      "  |      /-p\n",
      "  |   /5|\n",
      "  |  |  |   /-o\n",
      "  |  |   \\12\n",
      "  |  |      \\-n\n",
      "  |  |\n",
      "  |  |      /-m\n",
      "  |  |   /13\n",
      "   \\2|  |  |   /-l\n",
      "     |  |   \\20\n",
      "     |  |     |   /-k\n",
      "     |  |      \\26\n",
      "     |  |        |   /-j\n",
      "     |  |         \\32\n",
      "     |  |           |   /-i\n",
      "      \\6|            \\34\n",
      "        |              |   /-h\n",
      "        |               \\36\n",
      "        |                  \\-g\n",
      "        |\n",
      "        |      /-f\n",
      "        |   /21\n",
      "        |  |   \\-e\n",
      "         \\14\n",
      "           |   /-d\n",
      "            \\22\n",
      "               \\-c\n"
     ]
    }
   ],
   "source": [
    "def reNumberNodes (tl):\n",
    "    nodeId = 0\n",
    "    for n in tl.traverse():\n",
    "        n.add_features(ND=nodeId)\n",
    "        if n.name==\"\":\n",
    "            n.name = str(nodeId)\n",
    "        nodeId = nodeId + 1\n",
    "    return\n",
    "\n",
    "reNumberNodes(tl)\n",
    "\n",
    "\n",
    "#Writing in NHX format\n",
    "tl.write(features=['ND'])\n",
    "print(tl.get_ascii(show_internal=True))"
   ]
  },
  {
   "cell_type": "markdown",
   "metadata": {},
   "source": [
    "## Now we create a function to place the n events of transition.\n",
    "We don't care about branch lengths, meaning that we decide that a transition is not more likely on a long branch than on a short one."
   ]
  },
  {
   "cell_type": "code",
   "execution_count": 3,
   "metadata": {
    "collapsed": false
   },
   "outputs": [],
   "source": [
    "# We could use some dynamic programming to be able to generate paths that yield n transitions exactly.\n",
    "# INstead we randomly generate transitions on the tree until we get the desired number.\n",
    "# We have two states: ancestral (0) and convergent (1).\n",
    "# We count the numbers of transitions\n",
    "def randomTransitions(numTransitions, tree):\n",
    "    numberOfNodes = len(tree.get_tree_root().get_descendants()) + 1\n",
    "    rate = float(numTransitions)/float(numberOfNodes)\n",
    "    ancestralTransition=dict()\n",
    "    totalNumberOfTransitions = 0\n",
    "    nodesWithTransitions = list()\n",
    "    for node in tree.traverse(\"levelorder\"):\n",
    "        if node.is_root() :\n",
    "            ancestralTransition[node] = False\n",
    "        elif ( ancestralTransition[node.up] == True):\n",
    "            ancestralTransition[node] = True\n",
    "        else :\n",
    "            sisterHasAlreadyTransitioned=False\n",
    "            if ancestralTransition.__contains__(node.get_sisters()[0]): #Here we assume binary trees!\n",
    "                sisterHasAlreadyTransitioned=True\n",
    "            #randomly draw whether we do a transition or not\n",
    "            transitionBool = stats.bernoulli.rvs(rate, size=1)[0] == 1\n",
    "            if (transitionBool and not sisterHasAlreadyTransitioned):\n",
    "                ancestralTransition[node] = True\n",
    "                nodesWithTransitions.append(node)\n",
    "                totalNumberOfTransitions = totalNumberOfTransitions + 1\n",
    "            else:\n",
    "                ancestralTransition[node] = False\n",
    "    return nodesWithTransitions, totalNumberOfTransitions, ancestralTransition\n",
    "        \n",
    "        \n",
    "        \n",
    "def placeNTransitionsInTree(numTransitions, tree):\n",
    "    observedNumTransitions = 2*numTransitions\n",
    "    nodesWithTransitions = list()\n",
    "    numTries = 0\n",
    "    convergentModel = dict()\n",
    "    while observedNumTransitions != numTransitions and numTries < 100:\n",
    "        observedNumTransitions = 0\n",
    "        nodesWithTransitions, observedNumTransitions, convergentModel = randomTransitions(numTransitions, tree)\n",
    "        print (\"Observed Number of Transitions: \"+ str(observedNumTransitions ) + \" compared to \"+ str(numTransitions) + \" wanted\")\n",
    "        numTries = numTries + 1\n",
    "    if numTries < 100:\n",
    "        for n in nodesWithTransitions:\n",
    "            print(n.get_ascii())\n",
    "    else:\n",
    "        print(\"It seems like it is too difficult to place \"+ str(numTransitions) + \" events in this tree.\")\n",
    "    return convergentModel\n",
    "\n"
   ]
  },
  {
   "cell_type": "markdown",
   "metadata": {},
   "source": [
    "## And now we place the transition events."
   ]
  },
  {
   "cell_type": "code",
   "execution_count": 4,
   "metadata": {
    "collapsed": false
   },
   "outputs": [
    {
     "name": "stdout",
     "output_type": "stream",
     "text": [
      "Observed Number of Transitions: 2 compared to 5 wanted\n",
      "Observed Number of Transitions: 2 compared to 5 wanted\n",
      "Observed Number of Transitions: 2 compared to 5 wanted\n",
      "Observed Number of Transitions: 3 compared to 5 wanted\n",
      "Observed Number of Transitions: 2 compared to 5 wanted\n",
      "Observed Number of Transitions: 3 compared to 5 wanted\n",
      "Observed Number of Transitions: 3 compared to 5 wanted\n",
      "Observed Number of Transitions: 1 compared to 5 wanted\n",
      "Observed Number of Transitions: 2 compared to 5 wanted\n",
      "Observed Number of Transitions: 2 compared to 5 wanted\n",
      "Observed Number of Transitions: 2 compared to 5 wanted\n",
      "Observed Number of Transitions: 1 compared to 5 wanted\n",
      "Observed Number of Transitions: 3 compared to 5 wanted\n",
      "Observed Number of Transitions: 3 compared to 5 wanted\n",
      "Observed Number of Transitions: 0 compared to 5 wanted\n",
      "Observed Number of Transitions: 1 compared to 5 wanted\n",
      "Observed Number of Transitions: 1 compared to 5 wanted\n",
      "Observed Number of Transitions: 2 compared to 5 wanted\n",
      "Observed Number of Transitions: 4 compared to 5 wanted\n",
      "Observed Number of Transitions: 1 compared to 5 wanted\n",
      "Observed Number of Transitions: 1 compared to 5 wanted\n",
      "Observed Number of Transitions: 4 compared to 5 wanted\n",
      "Observed Number of Transitions: 2 compared to 5 wanted\n",
      "Observed Number of Transitions: 1 compared to 5 wanted\n",
      "Observed Number of Transitions: 2 compared to 5 wanted\n",
      "Observed Number of Transitions: 2 compared to 5 wanted\n",
      "Observed Number of Transitions: 1 compared to 5 wanted\n",
      "Observed Number of Transitions: 2 compared to 5 wanted\n",
      "Observed Number of Transitions: 2 compared to 5 wanted\n",
      "Observed Number of Transitions: 2 compared to 5 wanted\n",
      "Observed Number of Transitions: 2 compared to 5 wanted\n",
      "Observed Number of Transitions: 5 compared to 5 wanted\n",
      "\n",
      "--s\n",
      "\n",
      "--o\n",
      "\n",
      "--f\n",
      "\n",
      "--j\n",
      "\n",
      "--h\n"
     ]
    }
   ],
   "source": [
    "convergentModel = dict()\n",
    "convergentModel = placeNTransitionsInTree(5, tl)"
   ]
  },
  {
   "cell_type": "markdown",
   "metadata": {},
   "source": [
    "Now we want to output the tree and the command line for bppseqgen and bppml."
   ]
  },
  {
   "cell_type": "code",
   "execution_count": 5,
   "metadata": {
    "collapsed": false
   },
   "outputs": [
    {
     "data": {
      "text/plain": [
       "'bppseqgen param=CATseq.bpp mod1Nodes=\"0,3,32,14,26,2,35,4,34,9,6,36,5,10,13,38,23,24,28,11,7,16,8,30,12,31,29,18,25,19,22,20,21\" mod2Nodes=\"33,15,37,27\" Nch=1000 Ns1=1 Ns2=2 Ne1=1 Ne2=2'"
      ]
     },
     "execution_count": 5,
     "metadata": {},
     "output_type": "execute_result"
    }
   ],
   "source": [
    "# convergentModel is the ouput from thefunction that places transitions\n",
    "# C1 and C2 are two profile numbers\n",
    "# Nch is the number of characters\n",
    "def getBppSeqGenCommandFromNodesWithTransitions(convergentModel, C1, C2, Nch):\n",
    "    #First, get the nodes with the convergent model and the nodes with the ancestral model.\n",
    "    nodesWithConvergentModel = list()\n",
    "    nodesWithAncestralModel = list()\n",
    "    for k,v in convergentModel.items():\n",
    "        if v == True:\n",
    "            nodesWithConvergentModel.append(k.ND)\n",
    "        if v == False:\n",
    "            nodesWithAncestralModel.append(k.ND)\n",
    "\n",
    "    n1=\"\\\"\"+ str(nodesWithAncestralModel[0])\n",
    "    for n in nodesWithAncestralModel[1:len(nodesWithAncestralModel)-1]:\n",
    "        n1 += \",\" + str(n) \n",
    "    n1 += \"\\\"\"\n",
    "    n2=\"\\\"\"+ str(nodesWithConvergentModel[0])\n",
    "    for n in nodesWithConvergentModel[1:len(nodesWithConvergentModel)-1]:\n",
    "        n2 += \",\" + str(n) \n",
    "    n2 += \"\\\"\"\n",
    "    #Dummy values:\n",
    "    command=\"bppseqgen param=CATseq.bpp mod1Nodes=%s mod2Nodes=%s Nch=%d Ns1=%d Ns2=%d Ne1=%d Ne2=%d\"%(n1,n2,Nch,C1,C2,C1,C2)\n",
    "    return (command)\n",
    "\n",
    "\n",
    "getBppSeqGenCommandFromNodesWithTransitions(convergentModel, 1, 2, 1000)"
   ]
  },
  {
   "cell_type": "markdown",
   "metadata": {
    "collapsed": true
   },
   "source": [
    "We have a problem: the random algorithm above does not work well for large numbers of convergent events: it needs to do a large number of trials and errors to get something that works, and often fails.\n",
    "Therefore we need to use another algorithm.\n",
    "# Improved algorithm"
   ]
  },
  {
   "cell_type": "code",
   "execution_count": 6,
   "metadata": {
    "collapsed": false
   },
   "outputs": [
    {
     "name": "stdout",
     "output_type": "stream",
     "text": [
      "((((H:1,K:1)D:1,(F:1,I:1)G:1)B:1,E:1)A:1,((L:1,(N:1,Q:1)O:1)J:1,(P:1,S:1)M:1)C:1);\n",
      "\n",
      "            /-H\n",
      "         /D|\n",
      "        |   \\-K\n",
      "      /B|\n",
      "     |  |   /-F\n",
      "   /A|   \\G|\n",
      "  |  |      \\-I\n",
      "  |  |\n",
      "  |   \\-E\n",
      "--|\n",
      "  |      /-L\n",
      "  |   /J|\n",
      "  |  |  |   /-N\n",
      "  |  |   \\O|\n",
      "   \\C|      \\-Q\n",
      "     |\n",
      "     |   /-P\n",
      "      \\M|\n",
      "         \\-S\n"
     ]
    }
   ],
   "source": [
    "# we load a small tree, for testing purpose\n",
    "t = Tree('((((H,K)D,(F,I)G)B,E)A,((L,(N,Q)O)J,(P,S)M)C);', format=1)\n",
    "\n",
    "print(t.write(format=1))\n",
    "print(t.get_ascii(show_internal=True))\n",
    "\n",
    "\n",
    "#for node in t.traverse(\"levelorder\"):\n",
    "  # Do some analysis on node\n",
    "  #print (node.name)\n"
   ]
  },
  {
   "cell_type": "code",
   "execution_count": 7,
   "metadata": {
    "code_folding": [],
    "collapsed": false
   },
   "outputs": [],
   "source": [
    "def getCherries(leaves, tree):\n",
    "    length = len(leaves)\n",
    "    dist=list()\n",
    "    leaveslist = list(leaves)\n",
    "    for i in range(length-1):\n",
    "        for j in range(i+1,length):\n",
    "            di = tree.get_distance(leaveslist[i].name, leaveslist[j].name, topology_only=True)\n",
    "            dist.append([di, leaveslist[i].name, leaveslist[j].name])\n",
    "    #print(dist)\n",
    "    cherries = list()\n",
    "    for d in dist:\n",
    "        if (d[0] == 1.0):\n",
    "            cherries.append(d)\n",
    "    return (cherries)\n",
    "\n",
    "def placeTransitionOnBranchIfSisterHasNotTransitioned (node, ancestralTransition, nodesWithTransitions):\n",
    "    if node.is_leaf():\n",
    "        if ancestralTransition.__contains__(node.get_sisters()[0]) and ancestralTransition[node.get_sisters()[0]]==True:\n",
    "            print(\"Problem: sister of node \"+node.name+\" has transitioned!\")\n",
    "            return\n",
    "        ancestralTransition[ node ] = True\n",
    "        nodesWithTransitions.append(node)\n",
    "        print (\"Adding transition on leaf node \"+node.name)\n",
    "        return\n",
    "    descen = node.get_descendants()\n",
    "    SisterHasTransitioned = True\n",
    "    converg = 0\n",
    "    while (not SisterHasTransitioned):\n",
    "        converg = np.random.randint( 0, high=len(descen) )\n",
    "        if ancestralTransition.__contains__(descen[converg].get_sisters()[0] and ancestralTransition[descen[converg].get_sisters()[0]]==True):\n",
    "            pass\n",
    "        else:\n",
    "            SisterHasTransitioned = False\n",
    "    ancestralTransition[ descen[converg] ] = True\n",
    "    nodesWithTransitions.append(descen[converg])\n",
    "    print (\"Adding transition on node \"+node.name)\n",
    "    return\n",
    "\n",
    "\n",
    "def randomTransitionsWithHypergeometricDistribution(numTransitions, tree):\n",
    "    numberOfNodes = len(tree.get_tree_root().get_descendants()) + 1\n",
    "    rate = float(numTransitions)/float(numberOfNodes)\n",
    "    node2leaves = tree.get_cached_content()\n",
    "    #Computing the maximum number of transitions possible\n",
    "    numLeaves = len(node2leaves[tree.get_tree_root()])\n",
    "    cherries = getCherries(node2leaves[tree.get_tree_root()], tree)\n",
    "    #print(\"cherries: \"+str(cherries))\n",
    "    maxNumTrans = numLeaves - len(cherries)\n",
    "    print(\"Maximum number of transitions: \"+str(maxNumTrans))\n",
    "    if maxNumTrans < numTransitions:\n",
    "        print (\"Sorry, we cannot fit \"+str(numTransitions)+ \" in this tree, which can only accommodate \"+str(maxNumTrans)+\" transitions.\")\n",
    "    # Now, we want to annotate all nodes with the number of available underlying branches.\n",
    "    listOfCherryPartners = list()\n",
    "    for c in cherries:\n",
    "        listOfCherryPartners.append( c[1] ) \n",
    "    #print(\"listOfCherryPartners: \"+str(listOfCherryPartners))\n",
    "    for node in tree.traverse(\"levelorder\"):\n",
    "        numLea = len(node2leaves[node])\n",
    "        numCherries = 0\n",
    "        for n in node2leaves[node]:\n",
    "            if n.name in listOfCherryPartners:\n",
    "                numCherries = numCherries +1\n",
    "        node.add_feature(\"numberOfAvailableBranches\", numLea - numCherries)\n",
    "        #print(node.name + \" : \"+ str(node.numberOfAvailableBranches))\n",
    "    ancestralTransition=dict()\n",
    "    for node in tree.traverse(\"levelorder\"):\n",
    "        ancestralTransition[node] = False\n",
    "    nodesWithTransitions = list()\n",
    "    #Now we traverse the tree from the root, and at each node choose \n",
    "    #how many transitions we place in the right and left subtrees\n",
    "    tree.get_tree_root().add_feature(\"underlyingNumTransitions\", numTransitions)\n",
    "    for node in tree.traverse(\"preorder\"):\n",
    "        if (not node.is_leaf()):\n",
    "            rightChild = node.children[0]\n",
    "            leftChild = node.children[1]\n",
    "            if node.underlyingNumTransitions <= 1:\n",
    "                    rightChild.add_feature(\"underlyingNumTransitions\", \n",
    "                                           1)\n",
    "                    leftChild.add_feature(\"underlyingNumTransitions\", \n",
    "                                          1)\n",
    "            else:\n",
    "                numRight = np.random.hypergeometric(rightChild.numberOfAvailableBranches, \n",
    "                                       leftChild.numberOfAvailableBranches, \n",
    "                                       node.underlyingNumTransitions)\n",
    "                numLeft = node.underlyingNumTransitions - numRight\n",
    "                rightChild.add_feature(\"underlyingNumTransitions\", \n",
    "                                       numRight)\n",
    "                leftChild.add_feature(\"underlyingNumTransitions\", \n",
    "                                      numLeft)\n",
    "                if (numRight == 1):\n",
    "                    #We randomly place the transition in one of the branches of the right subtree\n",
    "                    placeTransitionOnBranchIfSisterHasNotTransitioned (rightChild, \n",
    "                                                                       ancestralTransition, \n",
    "                                                                       nodesWithTransitions)\n",
    "                if (numLeft == 1):\n",
    "                    #We randomly place the transition in one of the branches of the left subtree\n",
    "                    placeTransitionOnBranchIfSisterHasNotTransitioned (leftChild, \n",
    "                                                                       ancestralTransition, \n",
    "                                                                       nodesWithTransitions)\n",
    "    print (\"\\t\\tTotal number of transitions placed in the tree: \"+str(len(nodesWithTransitions)))\n",
    "    return nodesWithTransitions, ancestralTransition\n",
    "        \n",
    "        "
   ]
  },
  {
   "cell_type": "markdown",
   "metadata": {},
   "source": [
    "## Test of the function: 10 times we try to insert 5 transition in tree t."
   ]
  },
  {
   "cell_type": "code",
   "execution_count": 8,
   "metadata": {
    "collapsed": false
   },
   "outputs": [
    {
     "name": "stdout",
     "output_type": "stream",
     "text": [
      "Maximum number of transitions: 6\n",
      "Adding transition on node D\n",
      "Adding transition on node G\n",
      "Adding transition on node M\n",
      "Adding transition on leaf node L\n",
      "Adding transition on node O\n",
      "\t\tTotal number of transitions placed in the tree: 5\n",
      "Maximum number of transitions: 6\n",
      "Adding transition on node B\n",
      "Adding transition on leaf node E\n",
      "Adding transition on node M\n",
      "Adding transition on leaf node L\n",
      "Adding transition on node O\n",
      "\t\tTotal number of transitions placed in the tree: 5\n",
      "Maximum number of transitions: 6\n",
      "Adding transition on leaf node E\n",
      "Adding transition on node D\n",
      "Adding transition on node G\n",
      "Adding transition on leaf node L\n",
      "Adding transition on node O\n",
      "\t\tTotal number of transitions placed in the tree: 5\n",
      "Maximum number of transitions: 6\n",
      "Adding transition on node B\n",
      "Adding transition on leaf node E\n",
      "Adding transition on node M\n",
      "Adding transition on leaf node L\n",
      "Adding transition on node O\n",
      "\t\tTotal number of transitions placed in the tree: 5\n",
      "Maximum number of transitions: 6\n",
      "Adding transition on node B\n",
      "Adding transition on leaf node E\n",
      "Adding transition on node M\n",
      "Adding transition on leaf node L\n",
      "Adding transition on node O\n",
      "\t\tTotal number of transitions placed in the tree: 5\n",
      "Maximum number of transitions: 6\n",
      "Adding transition on leaf node E\n",
      "Adding transition on node D\n",
      "Adding transition on node G\n",
      "Adding transition on node J\n",
      "Adding transition on node M\n",
      "\t\tTotal number of transitions placed in the tree: 5\n",
      "Maximum number of transitions: 6\n",
      "Adding transition on node D\n",
      "Adding transition on node G\n",
      "Adding transition on node M\n",
      "Adding transition on leaf node L\n",
      "Adding transition on node O\n",
      "\t\tTotal number of transitions placed in the tree: 5\n",
      "Maximum number of transitions: 6\n",
      "Adding transition on node B\n",
      "Adding transition on leaf node E\n",
      "Adding transition on node M\n",
      "Adding transition on leaf node L\n",
      "Adding transition on node O\n",
      "\t\tTotal number of transitions placed in the tree: 5\n",
      "Maximum number of transitions: 6\n",
      "Adding transition on leaf node E\n",
      "Adding transition on node D\n",
      "Adding transition on node G\n",
      "Adding transition on node J\n",
      "Adding transition on node M\n",
      "\t\tTotal number of transitions placed in the tree: 5\n",
      "Maximum number of transitions: 6\n",
      "Adding transition on node B\n",
      "Adding transition on leaf node E\n",
      "Adding transition on node M\n",
      "Adding transition on leaf node L\n",
      "Adding transition on node O\n",
      "\t\tTotal number of transitions placed in the tree: 5\n"
     ]
    }
   ],
   "source": [
    "for i in range (10):\n",
    "    n,a = randomTransitionsWithHypergeometricDistribution(5, t)\n",
    "\n"
   ]
  },
  {
   "cell_type": "markdown",
   "metadata": {},
   "source": [
    "# Entire function to place convergent events in a tree and output the parameters for bppsuite."
   ]
  },
  {
   "cell_type": "code",
   "execution_count": 9,
   "metadata": {
    "collapsed": false
   },
   "outputs": [
    {
     "name": "stdout",
     "output_type": "stream",
     "text": [
      "Maximum number of transitions: 14\n",
      "Adding transition on node 3\n",
      "Adding transition on leaf node t\n",
      "Adding transition on node 10\n",
      "Adding transition on node 5\n",
      "Adding transition on node 14\n",
      "Adding transition on leaf node m\n",
      "Adding transition on leaf node l\n",
      "Adding transition on leaf node j\n",
      "Adding transition on leaf node i\n",
      "Adding transition on node 36\n",
      "\t\tTotal number of transitions placed in the tree: 10\n"
     ]
    },
    {
     "data": {
      "text/plain": [
       "'bppseqgen param=CATseq.bpp mod1Nodes=\"0,3,32,14,26,2,4,34,6,36,5,10,13,38,23,27,24,28,16,8,17,30,12,31,29,18,22,20\" mod2Nodes=\"33,35,9,15,37,11,7,25,19\" Nch=1000 Ns1=1 Ns2=2 Ne1=1 Ne2=2'"
      ]
     },
     "execution_count": 9,
     "metadata": {},
     "output_type": "execute_result"
    }
   ],
   "source": [
    "def placeTransitionsAndGetBppSeqGenCommand(numTransitions, tree, C1, C2, Nch):\n",
    "    reNumberNodes(tree) \n",
    "    nodesWithTransitions,convergentModel = randomTransitionsWithHypergeometricDistribution(numTransitions, tree)\n",
    "    return( getBppSeqGenCommandFromNodesWithTransitions(convergentModel, C1, C2, Nch) )\n",
    "\n",
    "# We try the function on the large tree simulated at the beginning\n",
    "placeTransitionsAndGetBppSeqGenCommand(10, tl, 1, 2, 1000)"
   ]
  },
  {
   "cell_type": "code",
   "execution_count": null,
   "metadata": {
    "collapsed": true
   },
   "outputs": [],
   "source": []
  }
 ],
 "metadata": {
  "kernelspec": {
   "display_name": "Python 3",
   "language": "python",
   "name": "python3"
  },
  "language_info": {
   "codemirror_mode": {
    "name": "ipython",
    "version": 3
   },
   "file_extension": ".py",
   "mimetype": "text/x-python",
   "name": "python",
   "nbconvert_exporter": "python",
   "pygments_lexer": "ipython3",
   "version": "3.5.0"
  }
 },
 "nbformat": 4,
 "nbformat_minor": 0
}
