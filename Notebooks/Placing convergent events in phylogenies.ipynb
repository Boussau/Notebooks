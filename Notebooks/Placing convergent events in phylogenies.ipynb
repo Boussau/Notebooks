{
 "cells": [
  {
   "cell_type": "markdown",
   "metadata": {},
   "source": [
    "# Here we want to place n events of transition between an ancestral lifestyle and a convergent lifestyle in a phylogeny. \n",
    "We want these n events to be independent, not nested.\n",
    "We return them in a format compatible with Bio++ input files for bppseqgen and bppml."
   ]
  },
  {
   "cell_type": "markdown",
   "metadata": {},
   "source": [
    "## First, we generate a random topology:"
   ]
  },
  {
   "cell_type": "code",
   "execution_count": 1,
   "metadata": {
    "collapsed": false
   },
   "outputs": [
    {
     "name": "stdout",
     "output_type": "stream",
     "text": [
      "\n",
      "            /-r\n",
      "         /-|\n",
      "        |   \\-q\n",
      "      /-|\n",
      "     |  |   /-p\n",
      "     |   \\-|\n",
      "     |      \\-o\n",
      "     |\n",
      "   /-|      /-n\n",
      "  |  |   /-|\n",
      "  |  |  |   \\-m\n",
      "  |  |  |\n",
      "  |  |  |      /-l\n",
      "  |   \\-|   /-|\n",
      "  |     |  |   \\-k\n",
      "  |     |  |\n",
      "  |     |  |      /-j\n",
      "  |      \\-|   /-|\n",
      "  |        |  |  |   /-i\n",
      "  |        |  |   \\-|\n",
      "  |        |  |     |   /-h\n",
      "--|         \\-|      \\-|\n",
      "  |           |         \\-g\n",
      "  |           |\n",
      "  |           |   /-f\n",
      "  |            \\-|\n",
      "  |               \\-e\n",
      "  |\n",
      "  |         /-d\n",
      "  |      /-|\n",
      "  |     |   \\-c\n",
      "  |   /-|\n",
      "  |  |  |   /-b\n",
      "  |  |   \\-|\n",
      "   \\-|      \\-a\n",
      "     |\n",
      "     |   /-t\n",
      "      \\-|\n",
      "         \\-s\n"
     ]
    }
   ],
   "source": [
    "from ete3 import Tree\n",
    "import string\n",
    "import scipy.stats as stats\n",
    "\n",
    "\n",
    "t = Tree()\n",
    "# We create a random tree topology\n",
    "numTips = 20\n",
    "candidateNames = list(string.ascii_lowercase)\n",
    "tipNames = candidateNames[0:20]\n",
    "t.populate(numTips, names_library=tipNames)\n",
    "print (t)\n",
    "\n",
    "#Alternatively we could read a tree from a file into a string \"line\", and then use: \n",
    "# t =  Tree( line )"
   ]
  },
  {
   "cell_type": "markdown",
   "metadata": {},
   "source": [
    "## Now, let's number the nodes of the tree."
   ]
  },
  {
   "cell_type": "code",
   "execution_count": 2,
   "metadata": {
    "collapsed": false
   },
   "outputs": [
    {
     "data": {
      "text/plain": [
       "'((((r:1[&&NHX:ND=15],q:1[&&NHX:ND=16])1:1[&&NHX:ND=7],(p:1[&&NHX:ND=17],o:1[&&NHX:ND=18])1:1[&&NHX:ND=8])1:1[&&NHX:ND=3],((n:1[&&NHX:ND=19],m:1[&&NHX:ND=20])1:1[&&NHX:ND=9],((l:1[&&NHX:ND=27],k:1[&&NHX:ND=28])1:1[&&NHX:ND=21],((j:1[&&NHX:ND=31],(i:1[&&NHX:ND=35],(h:1[&&NHX:ND=37],g:1[&&NHX:ND=38])1:1[&&NHX:ND=36])1:1[&&NHX:ND=32])1:1[&&NHX:ND=29],(f:1[&&NHX:ND=33],e:1[&&NHX:ND=34])1:1[&&NHX:ND=30])1:1[&&NHX:ND=22])1:1[&&NHX:ND=10])1:1[&&NHX:ND=4])1:1[&&NHX:ND=1],(((d:1[&&NHX:ND=23],c:1[&&NHX:ND=24])1:1[&&NHX:ND=11],(b:1[&&NHX:ND=25],a:1[&&NHX:ND=26])1:1[&&NHX:ND=12])1:1[&&NHX:ND=5],(t:1[&&NHX:ND=13],s:1[&&NHX:ND=14])1:1[&&NHX:ND=6])1:1[&&NHX:ND=2]);'"
      ]
     },
     "execution_count": 2,
     "metadata": {},
     "output_type": "execute_result"
    }
   ],
   "source": [
    "nodeId = 0\n",
    "for n in t.traverse():\n",
    "    n.add_features(ND=nodeId)\n",
    "    nodeId = nodeId + 1\n",
    "#Writing in NHX format\n",
    "t.write(features=['ND'])"
   ]
  },
  {
   "cell_type": "markdown",
   "metadata": {},
   "source": [
    "## Now we create a function to place the n events of transition.\n",
    "We don't care about branch lengths, meaning that we decide that a transition is not more likely on a long branch than on a short one."
   ]
  },
  {
   "cell_type": "code",
   "execution_count": 3,
   "metadata": {
    "collapsed": false
   },
   "outputs": [],
   "source": [
    "# We could use some dynamic programming to be able to generate paths that yield n transitions exactly.\n",
    "# INstead we randomly generate transitions on the tree until we get the desired number.\n",
    "# We have two states: ancestral (0) and convergent (1).\n",
    "# We count the numbers of transitions\n",
    "def randomTransitions(numTransitions, tree):\n",
    "    numberOfNodes = len(tree.get_tree_root().get_descendants()) + 1\n",
    "    rate = float(numTransitions)/float(numberOfNodes)\n",
    "    ancestralTransition=dict()\n",
    "    totalNumberOfTransitions = 0\n",
    "    nodesWithTransitions = list()\n",
    "    for node in tree.traverse(\"levelorder\"):\n",
    "        if node.is_root() :\n",
    "            ancestralTransition[node] = False\n",
    "        elif ( ancestralTransition[node.up] == True):\n",
    "            ancestralTransition[node] = True\n",
    "        else :\n",
    "            sisterHasAlreadyTransitioned=False\n",
    "            if ancestralTransition.__contains__(node.get_sisters()[0]): #Here we assume binary trees!\n",
    "                sisterHasAlreadyTransitioned=True\n",
    "            #randomly draw whether we do a transition or not\n",
    "            transitionBool = stats.bernoulli.rvs(rate, size=1)[0] == 1\n",
    "            if (transitionBool and not sisterHasAlreadyTransitioned):\n",
    "                ancestralTransition[node] = True\n",
    "                nodesWithTransitions.append(node)\n",
    "                totalNumberOfTransitions = totalNumberOfTransitions + 1\n",
    "            else:\n",
    "                ancestralTransition[node] = False\n",
    "    return nodesWithTransitions, totalNumberOfTransitions, ancestralTransition\n",
    "        \n",
    "        \n",
    "        \n",
    "def placeNTransitionsInTree(numTransitions, tree):\n",
    "    observedNumTransitions = 2*numTransitions\n",
    "    nodesWithTransitions = list()\n",
    "    numTries = 0\n",
    "    convergentModel = dict()\n",
    "    while observedNumTransitions != numTransitions and numTries < 100:\n",
    "        observedNumTransitions = 0\n",
    "        nodesWithTransitions, observedNumTransitions, convergentModel = randomTransitions(numTransitions, tree)\n",
    "        print (\"Observed Number of Transitions: \"+ str(observedNumTransitions ) + \" compared to \"+ str(numTransitions) + \" wanted\")\n",
    "        numTries = numTries + 1\n",
    "    if numTries < 100:\n",
    "        for n in nodesWithTransitions:\n",
    "            print(n.get_ascii())\n",
    "    else:\n",
    "        print(\"It seems like it is too difficult to place \"+ str(numTransitions) + \" events in this tree.\")\n",
    "    return convergentModel\n",
    "\n"
   ]
  },
  {
   "cell_type": "markdown",
   "metadata": {},
   "source": [
    "## And now we place the transition events."
   ]
  },
  {
   "cell_type": "code",
   "execution_count": 4,
   "metadata": {
    "collapsed": false
   },
   "outputs": [
    {
     "name": "stdout",
     "output_type": "stream",
     "text": [
      "Observed Number of Transitions: 4 compared to 5 wanted\n",
      "Observed Number of Transitions: 2 compared to 5 wanted\n",
      "Observed Number of Transitions: 3 compared to 5 wanted\n",
      "Observed Number of Transitions: 1 compared to 5 wanted\n",
      "Observed Number of Transitions: 2 compared to 5 wanted\n",
      "Observed Number of Transitions: 2 compared to 5 wanted\n",
      "Observed Number of Transitions: 0 compared to 5 wanted\n",
      "Observed Number of Transitions: 2 compared to 5 wanted\n",
      "Observed Number of Transitions: 1 compared to 5 wanted\n",
      "Observed Number of Transitions: 3 compared to 5 wanted\n",
      "Observed Number of Transitions: 2 compared to 5 wanted\n",
      "Observed Number of Transitions: 1 compared to 5 wanted\n",
      "Observed Number of Transitions: 5 compared to 5 wanted\n",
      "\n",
      "   /-d\n",
      "--|\n",
      "   \\-c\n",
      "\n",
      "--t\n",
      "\n",
      "--r\n",
      "\n",
      "--n\n",
      "\n",
      "--l\n"
     ]
    }
   ],
   "source": [
    "convergentModel = dict()\n",
    "convergentModel = placeNTransitionsInTree(5, t)"
   ]
  },
  {
   "cell_type": "markdown",
   "metadata": {},
   "source": [
    "Now we want to output the tree and the command line for bppseqgen and bppml."
   ]
  },
  {
   "cell_type": "code",
   "execution_count": 5,
   "metadata": {
    "collapsed": false
   },
   "outputs": [
    {
     "name": "stdout",
     "output_type": "stream",
     "text": [
      "\"0,3,1,31,9,35,10,32,21,36,22,38,29,37,30,33,12,34,18,14,7,6,16,28,2,5,4,25,26,17,20\"\n",
      "\"23,11,24,15,19,13\"\n",
      "bppseqgen param=CATseq.bpp mod1Nodes=\"0,3,1,31,9,35,10,32,21,36,22,38,29,37,30,33,12,34,18,14,7,6,16,28,2,5,4,25,26,17,20\" mod2Nodes=\"23,11,24,15,19,13\" Nch=1000 Ns1=1 Ns2=2 Ne1=1 Ne2=2\n"
     ]
    }
   ],
   "source": [
    "#First, get the nodes with the convergent model and the nodes with the ancestral model.\n",
    "nodesWithConvergentModel = list()\n",
    "nodesWithAncestralModel = list()\n",
    "for k,v in convergentModel.items():\n",
    "    if v == True:\n",
    "        nodesWithConvergentModel.append(k.ND)\n",
    "    if v == False:\n",
    "        nodesWithAncestralModel.append(k.ND)\n",
    "\n",
    "\n",
    "n1=\"\\\"\"+ str(nodesWithAncestralModel[0])\n",
    "for n in nodesWithAncestralModel[1:len(nodesWithAncestralModel)-1]:\n",
    "    n1 += \",\" + str(n) \n",
    "n1 += \"\\\"\"\n",
    "print(n1)\n",
    "n2=\"\\\"\"+ str(nodesWithConvergentModel[0])\n",
    "for n in nodesWithConvergentModel[1:len(nodesWithConvergentModel)-1]:\n",
    "    n2 += \",\" + str(n) \n",
    "n2 += \"\\\"\"\n",
    "print(n2)\n",
    "#Dummy values:\n",
    "C1 = 1\n",
    "C2 = 2\n",
    "Nch = 1000\n",
    "command=\"bppseqgen param=CATseq.bpp mod1Nodes=%s mod2Nodes=%s Nch=%d Ns1=%d Ns2=%d Ne1=%d Ne2=%d\"%(n1,n2,Nch,C1,C2,C1,C2)\n",
    "print (command)\n"
   ]
  },
  {
   "cell_type": "code",
   "execution_count": null,
   "metadata": {
    "collapsed": true
   },
   "outputs": [],
   "source": []
  }
 ],
 "metadata": {
  "kernelspec": {
   "display_name": "Python 3",
   "language": "python",
   "name": "python3"
  },
  "language_info": {
   "codemirror_mode": {
    "name": "ipython",
    "version": 3
   },
   "file_extension": ".py",
   "mimetype": "text/x-python",
   "name": "python",
   "nbconvert_exporter": "python",
   "pygments_lexer": "ipython3",
   "version": "3.5.0"
  }
 },
 "nbformat": 4,
 "nbformat_minor": 0
}
