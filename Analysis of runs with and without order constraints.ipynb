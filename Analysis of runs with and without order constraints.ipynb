{
 "cells": [
  {
   "cell_type": "markdown",
   "metadata": {
    "code_folding": []
   },
   "source": [
    "# Analysis of a run with constraints, and a run without"
   ]
  },
  {
   "cell_type": "markdown",
   "metadata": {},
   "source": [
    "I have made a little analysis to test our ability to date a tree with node order constraints. I use the following tree:"
   ]
  },
  {
   "cell_type": "code",
   "execution_count": 53,
   "metadata": {
    "collapsed": false
   },
   "outputs": [
    {
     "data": {
      "image/png": "[encoded data removed]",
      "text/plain": [
       "<IPython.core.display.Image object>"
      ]
     },
     "execution_count": 53,
     "metadata": {},
     "output_type": "execute_result"
    }
   ],
   "source": [
    "import sys\n",
    "from ete3 import Tree, TreeStyle, NodeStyle\n",
    "import numpy as np\n",
    "import pandas as pd\n",
    "import matplotlib.pyplot as plt\n",
    "import math\n",
    "import scipy\n",
    "import re\n",
    "\n",
    "t = Tree(\"(((a:0.1,b:0.1):0.2, (c:0.2,d:0.2):0.1):0.6, ((e:0.4,f:0.4):0.3, (g:0.5,h:0.5):0.2):0.2);\")\n",
    "ts = TreeStyle()\n",
    "ts.min_leaf_separation= 0\n",
    "ts.scale = 88 \n",
    "nstyle = NodeStyle()\n",
    "nstyle[\"size\"] = 0\n",
    "for n in t.traverse():\n",
    "   n.set_style(nstyle)\n",
    "\n",
    "t.render(\"%%inline\", tree_style=ts)  "
   ]
  },
  {
   "cell_type": "markdown",
   "metadata": {},
   "source": [
    "Then I will compare two MCMC runs: one with 2 node order constraints, and one without.\n",
    "The node order constraints are as follow:\n",
    "\n",
    "c       d       a       b\n",
    "\n",
    "g       h       e       f\n",
    "\n",
    "meaning that the MRCA of cd is older than the MRCA of AB (same thing for the second line), just like in the tree.\n",
    "First we take a short look at the MCMC run."
   ]
  },
  {
   "cell_type": "code",
   "execution_count": 58,
   "metadata": {
    "collapsed": true
   },
   "outputs": [],
   "source": [
    "\n",
    "\n",
    "runConsMet = pd.read_csv(\"output/testConstraintsMet.log\", sep=\"\\t\")"
   ]
  },
  {
   "cell_type": "code",
   "execution_count": 59,
   "metadata": {
    "collapsed": false
   },
   "outputs": [
    {
     "data": {
      "text/html": [
       "<div>\n",
       "<table border=\"1\" class=\"dataframe\">\n",
       "  <thead>\n",
       "    <tr style=\"text-align: right;\">\n",
       "      <th></th>\n",
       "      <th>Iteration</th>\n",
       "      <th>Posterior</th>\n",
       "      <th>Likelihood</th>\n",
       "      <th>Prior</th>\n",
       "      <th>diversification</th>\n",
       "      <th>extinction</th>\n",
       "      <th>gc</th>\n",
       "      <th>root</th>\n",
       "      <th>speciation</th>\n",
       "      <th>tstv</th>\n",
       "      <th>turnover</th>\n",
       "    </tr>\n",
       "  </thead>\n",
       "  <tbody>\n",
       "    <tr>\n",
       "      <th>count</th>\n",
       "      <td>1001.000000</td>\n",
       "      <td>1001.000000</td>\n",
       "      <td>1001.000000</td>\n",
       "      <td>1001.000000</td>\n",
       "      <td>1001.000000</td>\n",
       "      <td>1001.000000</td>\n",
       "      <td>1001.000000</td>\n",
       "      <td>1001.000000</td>\n",
       "      <td>1001.000000</td>\n",
       "      <td>1001.000000</td>\n",
       "      <td>1001.000000</td>\n",
       "    </tr>\n",
       "    <tr>\n",
       "      <th>mean</th>\n",
       "      <td>5000.000000</td>\n",
       "      <td>-113.993874</td>\n",
       "      <td>-98.425971</td>\n",
       "      <td>-15.567914</td>\n",
       "      <td>4.416536</td>\n",
       "      <td>5.334900</td>\n",
       "      <td>0.111875</td>\n",
       "      <td>0.774875</td>\n",
       "      <td>9.751436</td>\n",
       "      <td>0.942513</td>\n",
       "      <td>5.334900</td>\n",
       "    </tr>\n",
       "    <tr>\n",
       "      <th>std</th>\n",
       "      <td>2891.081113</td>\n",
       "      <td>2.214749</td>\n",
       "      <td>1.565877</td>\n",
       "      <td>1.904898</td>\n",
       "      <td>1.507350</td>\n",
       "      <td>2.319868</td>\n",
       "      <td>0.107302</td>\n",
       "      <td>0.198239</td>\n",
       "      <td>2.547804</td>\n",
       "      <td>0.552286</td>\n",
       "      <td>2.319868</td>\n",
       "    </tr>\n",
       "    <tr>\n",
       "      <th>min</th>\n",
       "      <td>0.000000</td>\n",
       "      <td>-123.309000</td>\n",
       "      <td>-105.959000</td>\n",
       "      <td>-23.481300</td>\n",
       "      <td>0.738713</td>\n",
       "      <td>0.506599</td>\n",
       "      <td>0.000130</td>\n",
       "      <td>0.305117</td>\n",
       "      <td>3.853600</td>\n",
       "      <td>0.064296</td>\n",
       "      <td>0.506599</td>\n",
       "    </tr>\n",
       "    <tr>\n",
       "      <th>25%</th>\n",
       "      <td>2500.000000</td>\n",
       "      <td>-115.260000</td>\n",
       "      <td>-99.369100</td>\n",
       "      <td>-16.632500</td>\n",
       "      <td>3.373290</td>\n",
       "      <td>3.620480</td>\n",
       "      <td>0.032300</td>\n",
       "      <td>0.635708</td>\n",
       "      <td>7.979750</td>\n",
       "      <td>0.528046</td>\n",
       "      <td>3.620480</td>\n",
       "    </tr>\n",
       "    <tr>\n",
       "      <th>50%</th>\n",
       "      <td>5000.000000</td>\n",
       "      <td>-113.593000</td>\n",
       "      <td>-98.226200</td>\n",
       "      <td>-15.475800</td>\n",
       "      <td>4.261310</td>\n",
       "      <td>4.927260</td>\n",
       "      <td>0.080141</td>\n",
       "      <td>0.770879</td>\n",
       "      <td>9.403520</td>\n",
       "      <td>0.833976</td>\n",
       "      <td>4.927260</td>\n",
       "    </tr>\n",
       "    <tr>\n",
       "      <th>75%</th>\n",
       "      <td>7500.000000</td>\n",
       "      <td>-112.454000</td>\n",
       "      <td>-97.292100</td>\n",
       "      <td>-14.235800</td>\n",
       "      <td>5.233970</td>\n",
       "      <td>6.774960</td>\n",
       "      <td>0.153066</td>\n",
       "      <td>0.893176</td>\n",
       "      <td>11.209300</td>\n",
       "      <td>1.241400</td>\n",
       "      <td>6.774960</td>\n",
       "    </tr>\n",
       "    <tr>\n",
       "      <th>max</th>\n",
       "      <td>10000.000000</td>\n",
       "      <td>-109.414000</td>\n",
       "      <td>-94.888500</td>\n",
       "      <td>-10.750500</td>\n",
       "      <td>11.936400</td>\n",
       "      <td>17.340100</td>\n",
       "      <td>0.672720</td>\n",
       "      <td>1.806330</td>\n",
       "      <td>22.550600</td>\n",
       "      <td>3.337300</td>\n",
       "      <td>17.340100</td>\n",
       "    </tr>\n",
       "  </tbody>\n",
       "</table>\n",
       "</div>"
      ],
      "text/plain": [
       "          Iteration    Posterior   Likelihood        Prior  diversification  \\\n",
       "count   1001.000000  1001.000000  1001.000000  1001.000000      1001.000000   \n",
       "mean    5000.000000  -113.993874   -98.425971   -15.567914         4.416536   \n",
       "std     2891.081113     2.214749     1.565877     1.904898         1.507350   \n",
       "min        0.000000  -123.309000  -105.959000   -23.481300         0.738713   \n",
       "25%     2500.000000  -115.260000   -99.369100   -16.632500         3.373290   \n",
       "50%     5000.000000  -113.593000   -98.226200   -15.475800         4.261310   \n",
       "75%     7500.000000  -112.454000   -97.292100   -14.235800         5.233970   \n",
       "max    10000.000000  -109.414000   -94.888500   -10.750500        11.936400   \n",
       "\n",
       "        extinction           gc         root   speciation         tstv  \\\n",
       "count  1001.000000  1001.000000  1001.000000  1001.000000  1001.000000   \n",
       "mean      5.334900     0.111875     0.774875     9.751436     0.942513   \n",
       "std       2.319868     0.107302     0.198239     2.547804     0.552286   \n",
       "min       0.506599     0.000130     0.305117     3.853600     0.064296   \n",
       "25%       3.620480     0.032300     0.635708     7.979750     0.528046   \n",
       "50%       4.927260     0.080141     0.770879     9.403520     0.833976   \n",
       "75%       6.774960     0.153066     0.893176    11.209300     1.241400   \n",
       "max      17.340100     0.672720     1.806330    22.550600     3.337300   \n",
       "\n",
       "          turnover  \n",
       "count  1001.000000  \n",
       "mean      5.334900  \n",
       "std       2.319868  \n",
       "min       0.506599  \n",
       "25%       3.620480  \n",
       "50%       4.927260  \n",
       "75%       6.774960  \n",
       "max      17.340100  "
      ]
     },
     "execution_count": 59,
     "metadata": {},
     "output_type": "execute_result"
    }
   ],
   "source": [
    "runConsMet.describe()"
   ]
  },
  {
   "cell_type": "code",
   "execution_count": 60,
   "metadata": {
    "collapsed": false
   },
   "outputs": [
    {
     "data": {
      "text/plain": [
       "<matplotlib.text.Text at 0x10c16a6d8>"
      ]
     },
     "execution_count": 60,
     "metadata": {},
     "output_type": "execute_result"
    },
    {
     "data": {
      "image/png": "[encoded data removed]",
      "text/plain": [
       "<matplotlib.figure.Figure at 0x10ef0f278>"
      ]
     },
     "metadata": {},
     "output_type": "display_data"
    }
   ],
   "source": [
    "%matplotlib inline\n",
    "plt.plot(runConsMet['Iteration'], runConsMet['Posterior'], 'b-')\n",
    "plt.xlabel(\"Iteration\", fontsize=15)\n",
    "plt.ylabel(\"Posterior\", fontsize=15)\n",
    "\n",
    "\n"
   ]
  },
  {
   "cell_type": "code",
   "execution_count": 61,
   "metadata": {
    "collapsed": false
   },
   "outputs": [
    {
     "data": {
      "text/plain": [
       "<matplotlib.text.Text at 0x1051757b8>"
      ]
     },
     "execution_count": 61,
     "metadata": {},
     "output_type": "execute_result"
    },
    {
     "data": {
      "image/png": "[encoded data removed]",
      "text/plain": [
       "<matplotlib.figure.Figure at 0x10ef28940>"
      ]
     },
     "metadata": {},
     "output_type": "display_data"
    }
   ],
   "source": [
    "%matplotlib inline\n",
    "plt.plot(runConsMet['Iteration'], runConsMet['root'], 'b-')\n",
    "plt.xlabel(\"Iteration\", fontsize=15)\n",
    "plt.ylabel(\"Root age\", fontsize=15)\n",
    "\n",
    "\n"
   ]
  },
  {
   "cell_type": "code",
   "execution_count": 62,
   "metadata": {
    "collapsed": false
   },
   "outputs": [],
   "source": [
    "def readTreesFromRBOutput (file):\n",
    "    try:\n",
    "        f=open(file, 'r')\n",
    "    except IOError:\n",
    "        print (\"Unknown file: \"+file)\n",
    "        sys.exit()\n",
    "    line = \"\"\n",
    "    treeStrings = list()\n",
    "    for l in f:\n",
    "        if \"teration\" not in l:\n",
    "            m = re.sub('\\[&index=\\d+\\]', \"\", l)\n",
    "            treeStrings.append(m.split()[4])\n",
    "    trees=list()\n",
    "    for l in treeStrings:\n",
    "        trees.append ( Tree( l ) )\n",
    "    return trees\n",
    "\n",
    "trees = readTreesFromRBOutput(\"output/testConstraintsMet.trees\")\n"
   ]
  },
  {
   "cell_type": "code",
   "execution_count": 63,
   "metadata": {
    "collapsed": false
   },
   "outputs": [],
   "source": [
    "\n",
    "def getNodeHeights( t ):\n",
    "    node2Height = dict()\n",
    "    id2Height = dict()\n",
    "    for node in t.traverse(\"postorder\"):\n",
    "        if node not in node2Height:\n",
    "            node2Height[node] = 0.0\n",
    "            id2Height[node.name] = 0.0\n",
    "        if node.up:\n",
    "            if node.up.name =='':\n",
    "                leaves = node.up.get_leaves()\n",
    "                name=\"\"\n",
    "                for l in leaves:\n",
    "                    name += l.name\n",
    "                node.up.name=name\n",
    "            node2Height[node.up] = node2Height[node] + node.dist\n",
    "            id2Height[str(node.up.name)] = node2Height[node] + node.dist\n",
    "      # print node.name + \" : \" + str(node2Height[node])\n",
    "    #return node2Height,id2Height\n",
    "    return id2Height\n",
    "\n",
    "\n",
    "allHeights = list()\n",
    "for t in trees:\n",
    "    allHeights.append(getNodeHeights(t))"
   ]
  },
  {
   "cell_type": "markdown",
   "metadata": {},
   "source": [
    "Let's look at the age difference between two nodes constrained in an older-younger fashion (the first constraint."
   ]
  },
  {
   "cell_type": "code",
   "execution_count": 64,
   "metadata": {
    "collapsed": false
   },
   "outputs": [
    {
     "data": {
      "text/html": [
       "<div>\n",
       "<table border=\"1\" class=\"dataframe\">\n",
       "  <thead>\n",
       "    <tr style=\"text-align: right;\">\n",
       "      <th></th>\n",
       "      <th>0</th>\n",
       "    </tr>\n",
       "  </thead>\n",
       "  <tbody>\n",
       "    <tr>\n",
       "      <th>count</th>\n",
       "      <td>1001.000000</td>\n",
       "    </tr>\n",
       "    <tr>\n",
       "      <th>mean</th>\n",
       "      <td>-0.146086</td>\n",
       "    </tr>\n",
       "    <tr>\n",
       "      <th>std</th>\n",
       "      <td>0.113012</td>\n",
       "    </tr>\n",
       "    <tr>\n",
       "      <th>min</th>\n",
       "      <td>-0.629282</td>\n",
       "    </tr>\n",
       "    <tr>\n",
       "      <th>25%</th>\n",
       "      <td>-0.205406</td>\n",
       "    </tr>\n",
       "    <tr>\n",
       "      <th>50%</th>\n",
       "      <td>-0.122005</td>\n",
       "    </tr>\n",
       "    <tr>\n",
       "      <th>75%</th>\n",
       "      <td>-0.059797</td>\n",
       "    </tr>\n",
       "    <tr>\n",
       "      <th>max</th>\n",
       "      <td>-0.000474</td>\n",
       "    </tr>\n",
       "  </tbody>\n",
       "</table>\n",
       "</div>"
      ],
      "text/plain": [
       "                 0\n",
       "count  1001.000000\n",
       "mean     -0.146086\n",
       "std       0.113012\n",
       "min      -0.629282\n",
       "25%      -0.205406\n",
       "50%      -0.122005\n",
       "75%      -0.059797\n",
       "max      -0.000474"
      ]
     },
     "execution_count": 64,
     "metadata": {},
     "output_type": "execute_result"
    }
   ],
   "source": [
    "diffABMinusCD = list()\n",
    "for a in allHeights:\n",
    "    diffABMinusCD.append(a[\"ab\"] - a[\"cd\"])\n",
    "\n",
    "pd.DataFrame( diffABMinusCD ).describe()\n",
    "    \n",
    "    "
   ]
  },
  {
   "cell_type": "markdown",
   "metadata": {},
   "source": [
    "They are all negative, and thus agree with the constraint.\n",
    "We look at the other constraint."
   ]
  },
  {
   "cell_type": "code",
   "execution_count": 65,
   "metadata": {
    "collapsed": false
   },
   "outputs": [
    {
     "data": {
      "text/html": [
       "<div>\n",
       "<table border=\"1\" class=\"dataframe\">\n",
       "  <thead>\n",
       "    <tr style=\"text-align: right;\">\n",
       "      <th></th>\n",
       "      <th>0</th>\n",
       "    </tr>\n",
       "  </thead>\n",
       "  <tbody>\n",
       "    <tr>\n",
       "      <th>count</th>\n",
       "      <td>1001.000000</td>\n",
       "    </tr>\n",
       "    <tr>\n",
       "      <th>mean</th>\n",
       "      <td>-0.147083</td>\n",
       "    </tr>\n",
       "    <tr>\n",
       "      <th>std</th>\n",
       "      <td>0.114754</td>\n",
       "    </tr>\n",
       "    <tr>\n",
       "      <th>min</th>\n",
       "      <td>-0.598449</td>\n",
       "    </tr>\n",
       "    <tr>\n",
       "      <th>25%</th>\n",
       "      <td>-0.216569</td>\n",
       "    </tr>\n",
       "    <tr>\n",
       "      <th>50%</th>\n",
       "      <td>-0.123322</td>\n",
       "    </tr>\n",
       "    <tr>\n",
       "      <th>75%</th>\n",
       "      <td>-0.055978</td>\n",
       "    </tr>\n",
       "    <tr>\n",
       "      <th>max</th>\n",
       "      <td>-0.000051</td>\n",
       "    </tr>\n",
       "  </tbody>\n",
       "</table>\n",
       "</div>"
      ],
      "text/plain": [
       "                 0\n",
       "count  1001.000000\n",
       "mean     -0.147083\n",
       "std       0.114754\n",
       "min      -0.598449\n",
       "25%      -0.216569\n",
       "50%      -0.123322\n",
       "75%      -0.055978\n",
       "max      -0.000051"
      ]
     },
     "execution_count": 65,
     "metadata": {},
     "output_type": "execute_result"
    }
   ],
   "source": [
    "diffEFMinusGH = list()\n",
    "for a in allHeights:\n",
    "    diffEFMinusGH.append(a[\"ef\"] - a[\"gh\"])\n",
    "\n",
    "pd.DataFrame( diffEFMinusGH ).describe()"
   ]
  },
  {
   "cell_type": "markdown",
   "metadata": {},
   "source": [
    "Same thing. \n",
    "Now we look into an unconstrained run."
   ]
  },
  {
   "cell_type": "code",
   "execution_count": 66,
   "metadata": {
    "collapsed": false
   },
   "outputs": [
    {
     "data": {
      "text/html": [
       "<div>\n",
       "<table border=\"1\" class=\"dataframe\">\n",
       "  <thead>\n",
       "    <tr style=\"text-align: right;\">\n",
       "      <th></th>\n",
       "      <th>0</th>\n",
       "    </tr>\n",
       "  </thead>\n",
       "  <tbody>\n",
       "    <tr>\n",
       "      <th>count</th>\n",
       "      <td>1001.000000</td>\n",
       "    </tr>\n",
       "    <tr>\n",
       "      <th>mean</th>\n",
       "      <td>-0.014525</td>\n",
       "    </tr>\n",
       "    <tr>\n",
       "      <th>std</th>\n",
       "      <td>0.258753</td>\n",
       "    </tr>\n",
       "    <tr>\n",
       "      <th>min</th>\n",
       "      <td>-1.001023</td>\n",
       "    </tr>\n",
       "    <tr>\n",
       "      <th>25%</th>\n",
       "      <td>-0.172961</td>\n",
       "    </tr>\n",
       "    <tr>\n",
       "      <th>50%</th>\n",
       "      <td>-0.019800</td>\n",
       "    </tr>\n",
       "    <tr>\n",
       "      <th>75%</th>\n",
       "      <td>0.144513</td>\n",
       "    </tr>\n",
       "    <tr>\n",
       "      <th>max</th>\n",
       "      <td>1.010819</td>\n",
       "    </tr>\n",
       "  </tbody>\n",
       "</table>\n",
       "</div>"
      ],
      "text/plain": [
       "                 0\n",
       "count  1001.000000\n",
       "mean     -0.014525\n",
       "std       0.258753\n",
       "min      -1.001023\n",
       "25%      -0.172961\n",
       "50%      -0.019800\n",
       "75%       0.144513\n",
       "max       1.010819"
      ]
     },
     "execution_count": 66,
     "metadata": {},
     "output_type": "execute_result"
    }
   ],
   "source": [
    "treesNC = readTreesFromRBOutput(\"output/testNoConstraint.trees\")\n",
    "allHeightsNC = list()\n",
    "for t in treesNC:\n",
    "    allHeightsNC.append(getNodeHeights(t))\n",
    "\n",
    "diffABMinusCDNC = list()\n",
    "for a in allHeightsNC:\n",
    "    diffABMinusCDNC.append(a[\"ab\"] - a[\"cd\"])\n",
    "\n",
    "pd.DataFrame( diffABMinusCDNC ).describe()"
   ]
  },
  {
   "cell_type": "markdown",
   "metadata": {},
   "source": [
    "The difference is not always negative."
   ]
  },
  {
   "cell_type": "code",
   "execution_count": 67,
   "metadata": {
    "collapsed": false
   },
   "outputs": [
    {
     "data": {
      "text/html": [
       "<div>\n",
       "<table border=\"1\" class=\"dataframe\">\n",
       "  <thead>\n",
       "    <tr style=\"text-align: right;\">\n",
       "      <th></th>\n",
       "      <th>0</th>\n",
       "    </tr>\n",
       "  </thead>\n",
       "  <tbody>\n",
       "    <tr>\n",
       "      <th>count</th>\n",
       "      <td>1001.000000</td>\n",
       "    </tr>\n",
       "    <tr>\n",
       "      <th>mean</th>\n",
       "      <td>-0.012098</td>\n",
       "    </tr>\n",
       "    <tr>\n",
       "      <th>std</th>\n",
       "      <td>0.265463</td>\n",
       "    </tr>\n",
       "    <tr>\n",
       "      <th>min</th>\n",
       "      <td>-1.402574</td>\n",
       "    </tr>\n",
       "    <tr>\n",
       "      <th>25%</th>\n",
       "      <td>-0.152929</td>\n",
       "    </tr>\n",
       "    <tr>\n",
       "      <th>50%</th>\n",
       "      <td>-0.003269</td>\n",
       "    </tr>\n",
       "    <tr>\n",
       "      <th>75%</th>\n",
       "      <td>0.140969</td>\n",
       "    </tr>\n",
       "    <tr>\n",
       "      <th>max</th>\n",
       "      <td>0.970412</td>\n",
       "    </tr>\n",
       "  </tbody>\n",
       "</table>\n",
       "</div>"
      ],
      "text/plain": [
       "                 0\n",
       "count  1001.000000\n",
       "mean     -0.012098\n",
       "std       0.265463\n",
       "min      -1.402574\n",
       "25%      -0.152929\n",
       "50%      -0.003269\n",
       "75%       0.140969\n",
       "max       0.970412"
      ]
     },
     "execution_count": 67,
     "metadata": {},
     "output_type": "execute_result"
    }
   ],
   "source": [
    "diffEFMinusGHNC = list()\n",
    "for a in allHeightsNC:\n",
    "    diffEFMinusGHNC.append(a[\"ef\"] - a[\"gh\"])\n",
    "\n",
    "pd.DataFrame( diffEFMinusGHNC ).describe()"
   ]
  },
  {
   "cell_type": "markdown",
   "metadata": {},
   "source": [
    "In this case as well, the difference is not always negative.\n",
    "\n",
    "# To conclude, it seems like the constraints have an impact on the posterior chronogram distribution, so we have a program to do relaxed molecular clock with node order constraints."
   ]
  },
  {
   "cell_type": "code",
   "execution_count": null,
   "metadata": {
    "collapsed": true
   },
   "outputs": [],
   "source": []
  }
 ],
 "metadata": {
  "kernelspec": {
   "display_name": "Python 3",
   "language": "python",
   "name": "python3"
  },
  "language_info": {
   "codemirror_mode": {
    "name": "ipython",
    "version": 3
   },
   "file_extension": ".py",
   "mimetype": "text/x-python",
   "name": "python",
   "nbconvert_exporter": "python",
   "pygments_lexer": "ipython3",
   "version": "3.5.0"
  }
 },
 "nbformat": 4,
 "nbformat_minor": 0
}
