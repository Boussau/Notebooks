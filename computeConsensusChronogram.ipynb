{
 "cells": [
  {
   "cell_type": "markdown",
   "metadata": {},
   "source": [
    "# Computing a consensus chronogram from MT trees"
   ]
  },
  {
   "cell_type": "markdown",
   "metadata": {},
   "source": [
    "## Reading all 100 trees computed by Gergely from replicates of 1% of the transfer-based constraints."
   ]
  },
  {
   "cell_type": "code",
   "execution_count": 1,
   "metadata": {
    "collapsed": true
   },
   "outputs": [],
   "source": [
    "import sys\n",
    "from ete3 import Tree, TreeStyle, NodeStyle\n",
    "import numpy as np\n",
    "import pandas as pd\n",
    "import matplotlib.pyplot as plt\n",
    "import math\n",
    "\n",
    "fileT = \"100.trees\" \n",
    "try:\n",
    "    f=open(fileT, 'r')\n",
    "except IOError:\n",
    "    print (\"Unknown file: \" + fileT)\n",
    "    sys.exit()\n",
    "\n",
    "allTrees = list()\n",
    "for l in f:\n",
    "    allTrees.append( Tree( l.strip() ) )"
   ]
  },
  {
   "cell_type": "markdown",
   "metadata": {},
   "source": [
    "Node ids are consistent across all trees.\n",
    "## Getting node Heights."
   ]
  },
  {
   "cell_type": "code",
   "execution_count": 17,
   "metadata": {
    "collapsed": false
   },
   "outputs": [],
   "source": [
    "#File where I store useful functions\n",
    "exec (open(\"/Users/boussau/Programs/PythonCode/functions.py\").read ())\n",
    "\n",
    "id2Heights=list()\n",
    "for t in allTrees:\n",
    "    node2Height,id2Height = getNodeHeights( t )\n",
    "    id2Heights.append(id2Height)"
   ]
  },
  {
   "cell_type": "markdown",
   "metadata": {},
   "source": [
    "Now we have the node heights.\n",
    "## Outputting the consensus chronogram, with confidence intervals."
   ]
  },
  {
   "cell_type": "code",
   "execution_count": 18,
   "metadata": {
    "collapsed": false
   },
   "outputs": [
    {
     "name": "stdout",
     "output_type": "stream",
     "text": [
      "96\n"
     ]
    }
   ],
   "source": [
    "print(len(id2Heights))\n",
    "# Creating a uniform weight vector\n",
    "weights = [1] * len(id2Heights)\n",
    "outputsWeightedChronogram (allTrees[0].copy(), id2Heights, \"consensus100MT\", weights)"
   ]
  },
  {
   "cell_type": "code",
   "execution_count": null,
   "metadata": {
    "collapsed": true
   },
   "outputs": [],
   "source": []
  }
 ],
 "metadata": {
  "kernelspec": {
   "display_name": "Python 3",
   "language": "python",
   "name": "python3"
  },
  "language_info": {
   "codemirror_mode": {
    "name": "ipython",
    "version": 3
   },
   "file_extension": ".py",
   "mimetype": "text/x-python",
   "name": "python",
   "nbconvert_exporter": "python",
   "pygments_lexer": "ipython3",
   "version": "3.5.0"
  }
 },
 "nbformat": 4,
 "nbformat_minor": 0
}
