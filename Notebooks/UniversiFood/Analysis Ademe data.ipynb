{
 "cells": [
  {
   "cell_type": "code",
   "execution_count": 1,
   "metadata": {
    "collapsed": true
   },
   "outputs": [],
   "source": [
    "import pandas as pd"
   ]
  },
  {
   "cell_type": "code",
   "execution_count": 2,
   "metadata": {},
   "outputs": [],
   "source": [
    "with open(\"Base_Carbone_V16.0_export_util_recoded.csv\", \"r\") as fin:\n",
    "    first_line = fin.readline().strip()\n",
    "col_names = first_line.split(\";\")\n",
    "d = pd.read_csv(\"Base_Carbone_V16.0_export_util_recoded.csv\", sep=\";\", names=col_names, low_memory=False, skiprows=[0])"
   ]
  },
  {
   "cell_type": "code",
   "execution_count": 3,
   "metadata": {},
   "outputs": [
    {
     "data": {
      "text/html": [
       "<div>\n",
       "<style>\n",
       "    .dataframe thead tr:only-child th {\n",
       "        text-align: right;\n",
       "    }\n",
       "\n",
       "    .dataframe thead th {\n",
       "        text-align: left;\n",
       "    }\n",
       "\n",
       "    .dataframe tbody tr th {\n",
       "        vertical-align: top;\n",
       "    }\n",
       "</style>\n",
       "<table border=\"1\" class=\"dataframe\">\n",
       "  <thead>\n",
       "    <tr style=\"text-align: right;\">\n",
       "      <th></th>\n",
       "      <th>Identifiant de l'élément</th>\n",
       "      <th>Nom frontière espagnol</th>\n",
       "      <th>Unité espagnol</th>\n",
       "      <th>Incertitude</th>\n",
       "      <th>Qualité TeR</th>\n",
       "      <th>Qualité GR</th>\n",
       "      <th>Qualité TiR</th>\n",
       "      <th>Qualité C</th>\n",
       "      <th>Qualité P</th>\n",
       "      <th>Qualité M</th>\n",
       "      <th>Commentaire espagnol</th>\n",
       "      <th>Code gaz supplémentaire 3</th>\n",
       "      <th>Valeur gaz supplémentaire 3</th>\n",
       "      <th>Code gaz supplémentaire 4</th>\n",
       "      <th>Valeur gaz supplémentaire 4</th>\n",
       "    </tr>\n",
       "  </thead>\n",
       "  <tbody>\n",
       "    <tr>\n",
       "      <th>count</th>\n",
       "      <td>14367.000000</td>\n",
       "      <td>0.0</td>\n",
       "      <td>0.0</td>\n",
       "      <td>12288.000000</td>\n",
       "      <td>3352.000000</td>\n",
       "      <td>3343.000000</td>\n",
       "      <td>3352.000000</td>\n",
       "      <td>3352.000000</td>\n",
       "      <td>3343.000000</td>\n",
       "      <td>3343.000000</td>\n",
       "      <td>0.0</td>\n",
       "      <td>0.0</td>\n",
       "      <td>1635.0</td>\n",
       "      <td>0.0</td>\n",
       "      <td>1635.0</td>\n",
       "    </tr>\n",
       "    <tr>\n",
       "      <th>mean</th>\n",
       "      <td>22015.437878</td>\n",
       "      <td>NaN</td>\n",
       "      <td>NaN</td>\n",
       "      <td>30.844482</td>\n",
       "      <td>2.227029</td>\n",
       "      <td>2.554293</td>\n",
       "      <td>2.570107</td>\n",
       "      <td>2.056683</td>\n",
       "      <td>1.959617</td>\n",
       "      <td>2.037691</td>\n",
       "      <td>NaN</td>\n",
       "      <td>NaN</td>\n",
       "      <td>0.0</td>\n",
       "      <td>NaN</td>\n",
       "      <td>0.0</td>\n",
       "    </tr>\n",
       "    <tr>\n",
       "      <th>std</th>\n",
       "      <td>3934.601689</td>\n",
       "      <td>NaN</td>\n",
       "      <td>NaN</td>\n",
       "      <td>19.562892</td>\n",
       "      <td>1.381576</td>\n",
       "      <td>1.974394</td>\n",
       "      <td>1.935357</td>\n",
       "      <td>1.271456</td>\n",
       "      <td>1.220897</td>\n",
       "      <td>1.369197</td>\n",
       "      <td>NaN</td>\n",
       "      <td>NaN</td>\n",
       "      <td>0.0</td>\n",
       "      <td>NaN</td>\n",
       "      <td>0.0</td>\n",
       "    </tr>\n",
       "    <tr>\n",
       "      <th>min</th>\n",
       "      <td>9356.000000</td>\n",
       "      <td>NaN</td>\n",
       "      <td>NaN</td>\n",
       "      <td>5.000000</td>\n",
       "      <td>0.000000</td>\n",
       "      <td>0.000000</td>\n",
       "      <td>0.000000</td>\n",
       "      <td>0.000000</td>\n",
       "      <td>0.000000</td>\n",
       "      <td>0.000000</td>\n",
       "      <td>NaN</td>\n",
       "      <td>NaN</td>\n",
       "      <td>0.0</td>\n",
       "      <td>NaN</td>\n",
       "      <td>0.0</td>\n",
       "    </tr>\n",
       "    <tr>\n",
       "      <th>25%</th>\n",
       "      <td>21018.000000</td>\n",
       "      <td>NaN</td>\n",
       "      <td>NaN</td>\n",
       "      <td>20.000000</td>\n",
       "      <td>1.000000</td>\n",
       "      <td>1.000000</td>\n",
       "      <td>1.000000</td>\n",
       "      <td>1.000000</td>\n",
       "      <td>2.000000</td>\n",
       "      <td>1.000000</td>\n",
       "      <td>NaN</td>\n",
       "      <td>NaN</td>\n",
       "      <td>0.0</td>\n",
       "      <td>NaN</td>\n",
       "      <td>0.0</td>\n",
       "    </tr>\n",
       "    <tr>\n",
       "      <th>50%</th>\n",
       "      <td>22276.000000</td>\n",
       "      <td>NaN</td>\n",
       "      <td>NaN</td>\n",
       "      <td>30.000000</td>\n",
       "      <td>3.000000</td>\n",
       "      <td>2.000000</td>\n",
       "      <td>2.000000</td>\n",
       "      <td>2.000000</td>\n",
       "      <td>2.000000</td>\n",
       "      <td>2.000000</td>\n",
       "      <td>NaN</td>\n",
       "      <td>NaN</td>\n",
       "      <td>0.0</td>\n",
       "      <td>NaN</td>\n",
       "      <td>0.0</td>\n",
       "    </tr>\n",
       "    <tr>\n",
       "      <th>75%</th>\n",
       "      <td>24532.000000</td>\n",
       "      <td>NaN</td>\n",
       "      <td>NaN</td>\n",
       "      <td>40.000000</td>\n",
       "      <td>3.000000</td>\n",
       "      <td>5.000000</td>\n",
       "      <td>5.000000</td>\n",
       "      <td>3.000000</td>\n",
       "      <td>3.000000</td>\n",
       "      <td>3.000000</td>\n",
       "      <td>NaN</td>\n",
       "      <td>NaN</td>\n",
       "      <td>0.0</td>\n",
       "      <td>NaN</td>\n",
       "      <td>0.0</td>\n",
       "    </tr>\n",
       "    <tr>\n",
       "      <th>max</th>\n",
       "      <td>27089.000000</td>\n",
       "      <td>NaN</td>\n",
       "      <td>NaN</td>\n",
       "      <td>400.000000</td>\n",
       "      <td>5.000000</td>\n",
       "      <td>5.000000</td>\n",
       "      <td>5.000000</td>\n",
       "      <td>5.000000</td>\n",
       "      <td>5.000000</td>\n",
       "      <td>5.000000</td>\n",
       "      <td>NaN</td>\n",
       "      <td>NaN</td>\n",
       "      <td>0.0</td>\n",
       "      <td>NaN</td>\n",
       "      <td>0.0</td>\n",
       "    </tr>\n",
       "  </tbody>\n",
       "</table>\n",
       "</div>"
      ],
      "text/plain": [
       "       Identifiant de l'élément  Nom frontière espagnol  Unité espagnol  \\\n",
       "count              14367.000000                     0.0             0.0   \n",
       "mean               22015.437878                     NaN             NaN   \n",
       "std                 3934.601689                     NaN             NaN   \n",
       "min                 9356.000000                     NaN             NaN   \n",
       "25%                21018.000000                     NaN             NaN   \n",
       "50%                22276.000000                     NaN             NaN   \n",
       "75%                24532.000000                     NaN             NaN   \n",
       "max                27089.000000                     NaN             NaN   \n",
       "\n",
       "        Incertitude  Qualité TeR   Qualité GR  Qualité TiR    Qualité C  \\\n",
       "count  12288.000000  3352.000000  3343.000000  3352.000000  3352.000000   \n",
       "mean      30.844482     2.227029     2.554293     2.570107     2.056683   \n",
       "std       19.562892     1.381576     1.974394     1.935357     1.271456   \n",
       "min        5.000000     0.000000     0.000000     0.000000     0.000000   \n",
       "25%       20.000000     1.000000     1.000000     1.000000     1.000000   \n",
       "50%       30.000000     3.000000     2.000000     2.000000     2.000000   \n",
       "75%       40.000000     3.000000     5.000000     5.000000     3.000000   \n",
       "max      400.000000     5.000000     5.000000     5.000000     5.000000   \n",
       "\n",
       "         Qualité P    Qualité M  Commentaire espagnol  \\\n",
       "count  3343.000000  3343.000000                   0.0   \n",
       "mean      1.959617     2.037691                   NaN   \n",
       "std       1.220897     1.369197                   NaN   \n",
       "min       0.000000     0.000000                   NaN   \n",
       "25%       2.000000     1.000000                   NaN   \n",
       "50%       2.000000     2.000000                   NaN   \n",
       "75%       3.000000     3.000000                   NaN   \n",
       "max       5.000000     5.000000                   NaN   \n",
       "\n",
       "       Code gaz supplémentaire 3  Valeur gaz supplémentaire 3  \\\n",
       "count                        0.0                       1635.0   \n",
       "mean                         NaN                          0.0   \n",
       "std                          NaN                          0.0   \n",
       "min                          NaN                          0.0   \n",
       "25%                          NaN                          0.0   \n",
       "50%                          NaN                          0.0   \n",
       "75%                          NaN                          0.0   \n",
       "max                          NaN                          0.0   \n",
       "\n",
       "       Code gaz supplémentaire 4  Valeur gaz supplémentaire 4  \n",
       "count                        0.0                       1635.0  \n",
       "mean                         NaN                          0.0  \n",
       "std                          NaN                          0.0  \n",
       "min                          NaN                          0.0  \n",
       "25%                          NaN                          0.0  \n",
       "50%                          NaN                          0.0  \n",
       "75%                          NaN                          0.0  \n",
       "max                          NaN                          0.0  "
      ]
     },
     "execution_count": 3,
     "metadata": {},
     "output_type": "execute_result"
    }
   ],
   "source": [
    "d.describe()"
   ]
  },
  {
   "cell_type": "code",
   "execution_count": 4,
   "metadata": {},
   "outputs": [
    {
     "name": "stdout",
     "output_type": "stream",
     "text": [
      "(14367, 67)\n"
     ]
    }
   ],
   "source": [
    "print(d.shape)"
   ]
  },
  {
   "cell_type": "code",
   "execution_count": 5,
   "metadata": {},
   "outputs": [
    {
     "data": {
      "text/plain": [
       "Index(['Type Ligne', 'Identifiant de l'élément', 'Structure',\n",
       "       'Type de l'élément', 'Statut de l'élément', 'Nom base français',\n",
       "       'Nom base anglais', 'Nom base espagnol', 'Nom attribut français',\n",
       "       'Nom attribut anglais', 'Nom attribut espagnol',\n",
       "       'Nom frontière français', 'Nom frontière anglais',\n",
       "       'Nom frontière espagnol', 'Code de la catégorie', 'Tags français',\n",
       "       'Tags anglais', 'Tags espagnol', 'Unité français', 'Unité anglais',\n",
       "       'Unité espagnol', 'Contributeur', 'Autres Contributeurs', 'Programme',\n",
       "       'Url du programme', 'Source', 'Localisation géographique',\n",
       "       'Sous-localisation géographique français',\n",
       "       'Sous-localisation géographique anglais',\n",
       "       'Sous-localisation géographique espagnol', 'Date de création',\n",
       "       'Date de modification', 'Période de validité', 'Incertitude',\n",
       "       'Réglementations', 'Transparence', 'Qualité', 'Qualité TeR',\n",
       "       'Qualité GR', 'Qualité TiR', 'Qualité C', 'Qualité P', 'Qualité M',\n",
       "       'Commentaire français', 'Commentaire anglais', 'Commentaire espagnol',\n",
       "       'Type poste', 'Nom poste français', 'Nom poste anglais',\n",
       "       'Nom poste espagnol', 'Total poste non décomposé', 'CO2f', 'CH4f',\n",
       "       'CH4b', 'N2O', 'Code gaz supplémentaire 1',\n",
       "       'Valeur gaz supplémentaire 1', 'Code gaz supplémentaire 2',\n",
       "       'Valeur gaz supplémentaire 2', 'Code gaz supplémentaire 3',\n",
       "       'Valeur gaz supplémentaire 3', 'Code gaz supplémentaire 4',\n",
       "       'Valeur gaz supplémentaire 4', 'Code gaz supplémentaire 5',\n",
       "       'Valeur gaz supplémentaire 5', 'Autres GES', 'CO2b'],\n",
       "      dtype='object')"
      ]
     },
     "execution_count": 5,
     "metadata": {},
     "output_type": "execute_result"
    }
   ],
   "source": [
    "d.columns"
   ]
  },
  {
   "cell_type": "code",
   "execution_count": 6,
   "metadata": {},
   "outputs": [
    {
     "data": {
      "text/plain": [
       "count     14367\n",
       "unique     4680\n",
       "top           0\n",
       "freq        327\n",
       "Name: Total poste non décomposé, dtype: object"
      ]
     },
     "execution_count": 6,
     "metadata": {},
     "output_type": "execute_result"
    }
   ],
   "source": [
    "d[\"Total poste non décomposé\"].describe()"
   ]
  },
  {
   "cell_type": "code",
   "execution_count": 7,
   "metadata": {},
   "outputs": [
    {
     "data": {
      "text/plain": [
       "0     7,55E-03\n",
       "1        0,267\n",
       "2        0,391\n",
       "3        0,267\n",
       "4     4,00E-03\n",
       "5        0,035\n",
       "6     1,01E-03\n",
       "7     6,65E-03\n",
       "8     3,00E-05\n",
       "9     1,35E-03\n",
       "10    2,00E-05\n",
       "11        1,06\n",
       "12        0,53\n",
       "13       0,624\n",
       "14       0,312\n",
       "15        1199\n",
       "16        3300\n",
       "17        3300\n",
       "18        3180\n",
       "19        1424\n",
       "20         807\n",
       "21         148\n",
       "22        3190\n",
       "23        2211\n",
       "24        1100\n",
       "25         938\n",
       "26         6,9\n",
       "Name: Total poste non décomposé, dtype: object"
      ]
     },
     "execution_count": 7,
     "metadata": {},
     "output_type": "execute_result"
    }
   ],
   "source": [
    "d[\"Total poste non décomposé\"].head( 27)"
   ]
  },
  {
   "cell_type": "code",
   "execution_count": 8,
   "metadata": {},
   "outputs": [],
   "source": [
    "def lower_case_e (x):\n",
    "    return (x.replace(\"E\", \"e\").replace(\",\", \".\"))\n",
    "d['Total poste non décomposé'] = d['Total poste non décomposé'].apply(lower_case_e)"
   ]
  },
  {
   "cell_type": "code",
   "execution_count": 9,
   "metadata": {},
   "outputs": [],
   "source": [
    "d[\"Total poste non décomposé\"] = d[\"Total poste non décomposé\"].astype(float)\n",
    "\n",
    "#pd.to_numeric(d[\"Total poste non décomposé\"])"
   ]
  },
  {
   "cell_type": "code",
   "execution_count": 10,
   "metadata": {},
   "outputs": [
    {
     "data": {
      "text/plain": [
       "count     14367.000000\n",
       "mean        635.295204\n",
       "std        9035.972487\n",
       "min       -2090.000000\n",
       "25%           0.053300\n",
       "50%           0.515000\n",
       "75%          35.000000\n",
       "max      710000.000000\n",
       "Name: Total poste non décomposé, dtype: float64"
      ]
     },
     "execution_count": 10,
     "metadata": {},
     "output_type": "execute_result"
    }
   ],
   "source": [
    "d[\"Total poste non décomposé\"].describe()"
   ]
  },
  {
   "cell_type": "code",
   "execution_count": null,
   "metadata": {},
   "outputs": [],
   "source": []
  }
 ],
 "metadata": {
  "kernelspec": {
   "display_name": "Python 3",
   "language": "python",
   "name": "python3"
  },
  "language_info": {
   "codemirror_mode": {
    "name": "ipython",
    "version": 3
   },
   "file_extension": ".py",
   "mimetype": "text/x-python",
   "name": "python",
   "nbconvert_exporter": "python",
   "pygments_lexer": "ipython3",
   "version": "3.6.3"
  }
 },
 "nbformat": 4,
 "nbformat_minor": 2
}
