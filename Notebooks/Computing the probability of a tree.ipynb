{
 "cells": [
  {
   "cell_type": "markdown",
   "metadata": {},
   "source": [
    "# Computing the probability of a tree using the Gillespie algorithm\n",
    "We want to compute the probability of alignment A,C,A at the tips of tree ((A:0.1, C:0.1):0.3, A:0.4);"
   ]
  },
  {
   "cell_type": "code",
   "execution_count": 1,
   "metadata": {},
   "outputs": [
    {
     "name": "stdout",
     "output_type": "stream",
     "text": [
      "Likelihood of ((A:0.1, C:0.1):0.3, A:0.4); for pattern {A,C,A}: 0.00416\n",
      "Log-likelihood of ((A:0.1, C:0.1):0.3, A:0.4); for pattern {A,C,A}: -5.482240204708965\n"
     ]
    }
   ],
   "source": [
    "\n",
    "import math\n",
    "import numpy as np\n",
    "\n",
    "# Useful function for drawing a DNA state, for instance at the root\n",
    "def drawNewState():\n",
    "    i = np.random.randint(0,4)\n",
    "    if i == 0:\n",
    "        return 'A'\n",
    "    elif  i==1:\n",
    "        return 'C'\n",
    "    elif  i==2:\n",
    "        return 'G'\n",
    "    elif  i==3:\n",
    "        return 'T'\n",
    "    else  :\n",
    "        print(\"Error drawNewState\")\n",
    "        exit(-1)\n",
    "\n",
    "# Function to simulate along a branch using the Gillespie algorithm under the Jukes Cantor model (1969)\n",
    "# In this case, we consider that there can be a mutation towards the same state.\n",
    "# So the sum of the rates is 0.25*4=1.0\n",
    "def simulateAlongBranch(length, startingState):\n",
    "    l = 0.0\n",
    "    current = startingState\n",
    "    while (l < length):\n",
    "        l = l + np.random.exponential(scale=1.0) # 1.0 is the sum of the rates of all possible events\n",
    "        if l < length:\n",
    "            current = drawNewState()\n",
    "    return current\n",
    "\n",
    "# Compute the probability of a tree\n",
    "def computeTreeProbabilityBySimulating(bl_a1, bl_c, bl_a2, bl_y):\n",
    "    Nsucces = 0\n",
    "    Nreps = 100000\n",
    "    iter = 0\n",
    "    while iter < Nreps:\n",
    "        x = drawNewState()\n",
    "        y = simulateAlongBranch(bl_y, x)\n",
    "        A1 = simulateAlongBranch(bl_a1, y)\n",
    "        C = simulateAlongBranch(bl_c, y)\n",
    "        A2 = simulateAlongBranch(bl_a2, x)\n",
    "        if (A1==\"A\" and C==\"C\" and A2==\"A\"):\n",
    "            Nsucces+=1\n",
    "        iter = iter + 1\n",
    "    return (Nsucces/Nreps)\n",
    "\n",
    "if __name__ == '__main__':\n",
    "    p = computeTreeProbabilityBySimulating(0.1, 0.1, 0.4, 0.3)\n",
    "    print(\"Likelihood of ((A:0.1, C:0.1):0.3, A:0.4); for pattern {A,C,A}: \"+ str(p))\n",
    "    print(\"Log-likelihood of ((A:0.1, C:0.1):0.3, A:0.4); for pattern {A,C,A}: \"+ str(math.log(p)))\n"
   ]
  },
  {
   "cell_type": "markdown",
   "metadata": {},
   "source": [
    "## Comparison to likelihood computed with usual software\n",
    "In common software, substitutions to the same state are not considered, and therefore branch lengths need to be rescaled. Indeed, branch lengths correspond to expected numbers of substitutions: in our case, we expect 4/3 times more substitutions than in common software. Therefore, to compare the likelihoods, we have to run common software on branch lengths that are 3/4 those of the tree, i.e.:\n",
    "((A1:0.075, C:0.075):0.225, A2:0.3);\n",
    "When I do that, I get : loglk=-5.480185.\n",
    "So the Gillespie sampling approach is not too far from the Felsenstein algorithm exact approach."
   ]
  },
  {
   "cell_type": "code",
   "execution_count": null,
   "metadata": {
    "collapsed": true
   },
   "outputs": [],
   "source": []
  }
 ],
 "metadata": {
  "kernelspec": {
   "display_name": "Python 3",
   "language": "python",
   "name": "python3"
  },
  "language_info": {
   "codemirror_mode": {
    "name": "ipython",
    "version": 3
   },
   "file_extension": ".py",
   "mimetype": "text/x-python",
   "name": "python",
   "nbconvert_exporter": "python",
   "pygments_lexer": "ipython3",
   "version": "3.6.3"
  }
 },
 "nbformat": 4,
 "nbformat_minor": 2
}
